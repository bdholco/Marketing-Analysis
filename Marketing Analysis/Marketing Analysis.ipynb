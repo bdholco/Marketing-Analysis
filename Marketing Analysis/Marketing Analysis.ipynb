{
 "cells": [
  {
   "cell_type": "markdown",
   "metadata": {},
   "source": [
    "## Marketing Campaign Analysis"
   ]
  },
  {
   "cell_type": "markdown",
   "metadata": {},
   "source": [
    "# Objective\n",
    "\n",
    "The goal of this notebook is to do an analysis of how effective the campaigns were and derive other insights using a publically available data set of a Facebook marketing campaign. The product being marketed is an app. \"conversions\" refer to installs of the app. \"Interests\" are assumed to be categorical (e.g. 1 might refer to an interest in someting, 17 would refer to an interest in something else)\n",
    "\n",
    "\n"
   ]
  },
  {
   "cell_type": "markdown",
   "metadata": {
    "scrolled": true
   },
   "source": [
    "## TL;DR Conclusion\n",
    "\n",
    "Overall the campaigns do not seem to be doing the best job of getting people to click through. Despite low click through rates, the conversion rates are actually quite high which suggests that only people with a high level of interest are clicking through the app\n",
    "\n",
    "Calculated KPIs below:\n",
    "\n",
    "\n",
    "<img src='kpi_bar_charts.png' width='800' heioght='400'>\n",
    "\n",
    "<img src='kpis.png'>\n",
    "\n",
    "<img src='time.png' width='500' height='200'>\n",
    "\n",
    "A regression analysis suggests that the most effective group to target will be females age 30-34. Because the campaigns as they were run weren't very effective in generating clicks, factors like the amount of money spent actually came up as being negatively correlated to the number of conversions. The level of concentrated interest (i.e. whether or not one of the three interests targeted was targeted twice in the same ad) does seem to be statistically insignificant. \n",
    "\n",
    "<img src='regression.png' width='700' height='150'>\n",
    "\n",
    "Campaign 1178 had the most money spent. It was aimed at the male demographic exclusivly and had a higher percentage of ads targeted at older demographics than campigns 916 and 936 which were more effective. \n",
    "\n",
    "<img src='spent_by_gender.png' width='750' height='400' >\n",
    "\n",
    "<img src='spent_by_age.png' width='750' height='400'>\n",
    "\n",
    "<img src='Kpi_gender_age.png'>\n",
    "\n",
    "\n",
    "\n",
    "\n",
    "\n",
    "<b>Reccomendation</b> : Allocate more money targeting the Female 30-34 and Female 35-39 demographics. Allocate more money to campaigns 916 and 936 and adjust campaign 1178 to consistently target a younger male audience. \n",
    "\n"
   ]
  },
  {
   "cell_type": "markdown",
   "metadata": {},
   "source": [
    "# Code"
   ]
  },
  {
   "cell_type": "code",
   "execution_count": 2,
   "metadata": {
    "scrolled": true
   },
   "outputs": [],
   "source": [
    "import pandas as pd\n",
    "import numpy as np\n",
    "import matplotlib.pyplot as plt\n",
    "import statsmodels.formula.api as sm\n",
    "import plotly.dashboard_objs as dashboard\n",
    "import IPython.display\n",
    "from IPython.display import Image\n",
    "from ipywidgets import interact \n",
    "import seaborn as sns\n",
    " \n",
    "\n",
    "\n",
    "\n",
    "df = pd.read_csv(\"data.csv\")\n"
   ]
  },
  {
   "cell_type": "code",
   "execution_count": 3,
   "metadata": {
    "scrolled": true
   },
   "outputs": [
    {
     "data": {
      "text/html": [
       "<div>\n",
       "<style scoped>\n",
       "    .dataframe tbody tr th:only-of-type {\n",
       "        vertical-align: middle;\n",
       "    }\n",
       "\n",
       "    .dataframe tbody tr th {\n",
       "        vertical-align: top;\n",
       "    }\n",
       "\n",
       "    .dataframe thead th {\n",
       "        text-align: right;\n",
       "    }\n",
       "</style>\n",
       "<table border=\"1\" class=\"dataframe\">\n",
       "  <thead>\n",
       "    <tr style=\"text-align: right;\">\n",
       "      <th></th>\n",
       "      <th>ad_id</th>\n",
       "      <th>interest1</th>\n",
       "      <th>interest2</th>\n",
       "      <th>interest3</th>\n",
       "      <th>impressions</th>\n",
       "      <th>clicks</th>\n",
       "      <th>spent</th>\n",
       "      <th>total_conversion</th>\n",
       "      <th>approved_conversion</th>\n",
       "    </tr>\n",
       "  </thead>\n",
       "  <tbody>\n",
       "    <tr>\n",
       "      <th>count</th>\n",
       "      <td>1.143000e+03</td>\n",
       "      <td>1143.000000</td>\n",
       "      <td>1.143000e+03</td>\n",
       "      <td>1143.000000</td>\n",
       "      <td>1.143000e+03</td>\n",
       "      <td>1143.000000</td>\n",
       "      <td>1143.000000</td>\n",
       "      <td>761.000000</td>\n",
       "      <td>761.000000</td>\n",
       "    </tr>\n",
       "    <tr>\n",
       "      <th>mean</th>\n",
       "      <td>9.872611e+05</td>\n",
       "      <td>33.884514</td>\n",
       "      <td>1.180606e+05</td>\n",
       "      <td>42.474191</td>\n",
       "      <td>6.872500e+04</td>\n",
       "      <td>11.629921</td>\n",
       "      <td>17.597760</td>\n",
       "      <td>2.161629</td>\n",
       "      <td>0.768725</td>\n",
       "    </tr>\n",
       "    <tr>\n",
       "      <th>std</th>\n",
       "      <td>1.939928e+05</td>\n",
       "      <td>27.560263</td>\n",
       "      <td>2.670506e+05</td>\n",
       "      <td>48.987248</td>\n",
       "      <td>2.067023e+05</td>\n",
       "      <td>27.347899</td>\n",
       "      <td>48.418711</td>\n",
       "      <td>4.062201</td>\n",
       "      <td>1.656445</td>\n",
       "    </tr>\n",
       "    <tr>\n",
       "      <th>min</th>\n",
       "      <td>7.087460e+05</td>\n",
       "      <td>2.000000</td>\n",
       "      <td>3.000000e+00</td>\n",
       "      <td>0.000000</td>\n",
       "      <td>0.000000e+00</td>\n",
       "      <td>0.000000</td>\n",
       "      <td>0.000000</td>\n",
       "      <td>0.000000</td>\n",
       "      <td>0.000000</td>\n",
       "    </tr>\n",
       "    <tr>\n",
       "      <th>25%</th>\n",
       "      <td>7.776325e+05</td>\n",
       "      <td>16.000000</td>\n",
       "      <td>2.200000e+01</td>\n",
       "      <td>19.000000</td>\n",
       "      <td>1.442650e+02</td>\n",
       "      <td>1.000000</td>\n",
       "      <td>0.000000</td>\n",
       "      <td>1.000000</td>\n",
       "      <td>0.000000</td>\n",
       "    </tr>\n",
       "    <tr>\n",
       "      <th>50%</th>\n",
       "      <td>1.121185e+06</td>\n",
       "      <td>26.000000</td>\n",
       "      <td>3.300000e+01</td>\n",
       "      <td>27.000000</td>\n",
       "      <td>3.142000e+03</td>\n",
       "      <td>2.000000</td>\n",
       "      <td>1.530000</td>\n",
       "      <td>1.000000</td>\n",
       "      <td>0.000000</td>\n",
       "    </tr>\n",
       "    <tr>\n",
       "      <th>75%</th>\n",
       "      <td>1.121804e+06</td>\n",
       "      <td>32.000000</td>\n",
       "      <td>9.889400e+04</td>\n",
       "      <td>38.000000</td>\n",
       "      <td>2.786400e+04</td>\n",
       "      <td>8.000000</td>\n",
       "      <td>8.540000</td>\n",
       "      <td>2.000000</td>\n",
       "      <td>1.000000</td>\n",
       "    </tr>\n",
       "    <tr>\n",
       "      <th>max</th>\n",
       "      <td>1.314415e+06</td>\n",
       "      <td>120.000000</td>\n",
       "      <td>2.286228e+06</td>\n",
       "      <td>421.000000</td>\n",
       "      <td>3.052003e+06</td>\n",
       "      <td>340.000000</td>\n",
       "      <td>639.949998</td>\n",
       "      <td>60.000000</td>\n",
       "      <td>21.000000</td>\n",
       "    </tr>\n",
       "  </tbody>\n",
       "</table>\n",
       "</div>"
      ],
      "text/plain": [
       "              ad_id    interest1     interest2    interest3   impressions  \\\n",
       "count  1.143000e+03  1143.000000  1.143000e+03  1143.000000  1.143000e+03   \n",
       "mean   9.872611e+05    33.884514  1.180606e+05    42.474191  6.872500e+04   \n",
       "std    1.939928e+05    27.560263  2.670506e+05    48.987248  2.067023e+05   \n",
       "min    7.087460e+05     2.000000  3.000000e+00     0.000000  0.000000e+00   \n",
       "25%    7.776325e+05    16.000000  2.200000e+01    19.000000  1.442650e+02   \n",
       "50%    1.121185e+06    26.000000  3.300000e+01    27.000000  3.142000e+03   \n",
       "75%    1.121804e+06    32.000000  9.889400e+04    38.000000  2.786400e+04   \n",
       "max    1.314415e+06   120.000000  2.286228e+06   421.000000  3.052003e+06   \n",
       "\n",
       "            clicks        spent  total_conversion  approved_conversion  \n",
       "count  1143.000000  1143.000000        761.000000           761.000000  \n",
       "mean     11.629921    17.597760          2.161629             0.768725  \n",
       "std      27.347899    48.418711          4.062201             1.656445  \n",
       "min       0.000000     0.000000          0.000000             0.000000  \n",
       "25%       1.000000     0.000000          1.000000             0.000000  \n",
       "50%       2.000000     1.530000          1.000000             0.000000  \n",
       "75%       8.000000     8.540000          2.000000             1.000000  \n",
       "max     340.000000   639.949998         60.000000            21.000000  "
      ]
     },
     "execution_count": 3,
     "metadata": {},
     "output_type": "execute_result"
    }
   ],
   "source": [
    "df.describe()"
   ]
  },
  {
   "cell_type": "markdown",
   "metadata": {},
   "source": [
    "# Cleaning the Data"
   ]
  },
  {
   "cell_type": "code",
   "execution_count": 4,
   "metadata": {
    "scrolled": true
   },
   "outputs": [],
   "source": [
    "#Two columns of data are missing for some of these entries. The age column has been moved over and it is preventing\n",
    "#the campaign_id column from being converted into integers. This  cell removes those entires from the data frame and \n",
    "#converts the campign_id column into integers\n",
    "\n",
    "data = df[df.campaign_id != '40-44']\n",
    "\n",
    "data = data[data.campaign_id != '45-49']\n",
    "\n",
    "data = data[data.campaign_id != '35-39']\n",
    "\n",
    "data = data[data.campaign_id != '30-34']\n",
    "\n",
    "data.campaign_id = data.campaign_id.astype('int')"
   ]
  },
  {
   "cell_type": "code",
   "execution_count": 5,
   "metadata": {
    "scrolled": true
   },
   "outputs": [],
   "source": [
    "#This Cell turns the gender column into a dummy variable\n",
    "\n",
    "data.gender.replace(['M','F'], [1,0], inplace= True)"
   ]
  },
  {
   "cell_type": "code",
   "execution_count": 6,
   "metadata": {},
   "outputs": [],
   "source": [
    "#This cell creates a categorical variable for the age column. 3 = 30-34, 2 = 35-39 etc.\n",
    "\n",
    "data[\"age_categorical\"] = data.age\n",
    "\n",
    "data.age_categorical.replace(['30-34', '35-39', '40-44', '45-49'], [3,2,1,0], inplace=True)\n",
    "\n"
   ]
  },
  {
   "cell_type": "code",
   "execution_count": 7,
   "metadata": {},
   "outputs": [
    {
     "data": {
      "text/html": [
       "<div>\n",
       "<style scoped>\n",
       "    .dataframe tbody tr th:only-of-type {\n",
       "        vertical-align: middle;\n",
       "    }\n",
       "\n",
       "    .dataframe tbody tr th {\n",
       "        vertical-align: top;\n",
       "    }\n",
       "\n",
       "    .dataframe thead th {\n",
       "        text-align: right;\n",
       "    }\n",
       "</style>\n",
       "<table border=\"1\" class=\"dataframe\">\n",
       "  <thead>\n",
       "    <tr style=\"text-align: right;\">\n",
       "      <th></th>\n",
       "      <th>ad_id</th>\n",
       "      <th>reporting_start</th>\n",
       "      <th>reporting_end</th>\n",
       "      <th>campaign_id</th>\n",
       "      <th>fb_campaign_id</th>\n",
       "      <th>age</th>\n",
       "      <th>gender</th>\n",
       "      <th>interest1</th>\n",
       "      <th>interest2</th>\n",
       "      <th>interest3</th>\n",
       "      <th>impressions</th>\n",
       "      <th>clicks</th>\n",
       "      <th>spent</th>\n",
       "      <th>total_conversion</th>\n",
       "      <th>approved_conversion</th>\n",
       "      <th>age_categorical</th>\n",
       "    </tr>\n",
       "  </thead>\n",
       "  <tbody>\n",
       "    <tr>\n",
       "      <th>0</th>\n",
       "      <td>708746</td>\n",
       "      <td>17/08/2017</td>\n",
       "      <td>17/08/2017</td>\n",
       "      <td>916</td>\n",
       "      <td>103916</td>\n",
       "      <td>30-34</td>\n",
       "      <td>1</td>\n",
       "      <td>15</td>\n",
       "      <td>17</td>\n",
       "      <td>17</td>\n",
       "      <td>7350.0</td>\n",
       "      <td>1</td>\n",
       "      <td>1.43</td>\n",
       "      <td>2.0</td>\n",
       "      <td>1.0</td>\n",
       "      <td>3</td>\n",
       "    </tr>\n",
       "    <tr>\n",
       "      <th>1</th>\n",
       "      <td>708749</td>\n",
       "      <td>17/08/2017</td>\n",
       "      <td>17/08/2017</td>\n",
       "      <td>916</td>\n",
       "      <td>103917</td>\n",
       "      <td>30-34</td>\n",
       "      <td>1</td>\n",
       "      <td>16</td>\n",
       "      <td>19</td>\n",
       "      <td>21</td>\n",
       "      <td>17861.0</td>\n",
       "      <td>2</td>\n",
       "      <td>1.82</td>\n",
       "      <td>2.0</td>\n",
       "      <td>0.0</td>\n",
       "      <td>3</td>\n",
       "    </tr>\n",
       "    <tr>\n",
       "      <th>2</th>\n",
       "      <td>708771</td>\n",
       "      <td>17/08/2017</td>\n",
       "      <td>17/08/2017</td>\n",
       "      <td>916</td>\n",
       "      <td>103920</td>\n",
       "      <td>30-34</td>\n",
       "      <td>1</td>\n",
       "      <td>20</td>\n",
       "      <td>25</td>\n",
       "      <td>22</td>\n",
       "      <td>693.0</td>\n",
       "      <td>0</td>\n",
       "      <td>0.00</td>\n",
       "      <td>1.0</td>\n",
       "      <td>0.0</td>\n",
       "      <td>3</td>\n",
       "    </tr>\n",
       "    <tr>\n",
       "      <th>3</th>\n",
       "      <td>708815</td>\n",
       "      <td>30/08/2017</td>\n",
       "      <td>30/08/2017</td>\n",
       "      <td>916</td>\n",
       "      <td>103928</td>\n",
       "      <td>30-34</td>\n",
       "      <td>1</td>\n",
       "      <td>28</td>\n",
       "      <td>32</td>\n",
       "      <td>32</td>\n",
       "      <td>4259.0</td>\n",
       "      <td>1</td>\n",
       "      <td>1.25</td>\n",
       "      <td>1.0</td>\n",
       "      <td>0.0</td>\n",
       "      <td>3</td>\n",
       "    </tr>\n",
       "    <tr>\n",
       "      <th>4</th>\n",
       "      <td>708818</td>\n",
       "      <td>17/08/2017</td>\n",
       "      <td>17/08/2017</td>\n",
       "      <td>916</td>\n",
       "      <td>103928</td>\n",
       "      <td>30-34</td>\n",
       "      <td>1</td>\n",
       "      <td>28</td>\n",
       "      <td>33</td>\n",
       "      <td>32</td>\n",
       "      <td>4133.0</td>\n",
       "      <td>1</td>\n",
       "      <td>1.29</td>\n",
       "      <td>1.0</td>\n",
       "      <td>1.0</td>\n",
       "      <td>3</td>\n",
       "    </tr>\n",
       "  </tbody>\n",
       "</table>\n",
       "</div>"
      ],
      "text/plain": [
       "    ad_id reporting_start reporting_end  campaign_id fb_campaign_id    age  \\\n",
       "0  708746      17/08/2017    17/08/2017          916         103916  30-34   \n",
       "1  708749      17/08/2017    17/08/2017          916         103917  30-34   \n",
       "2  708771      17/08/2017    17/08/2017          916         103920  30-34   \n",
       "3  708815      30/08/2017    30/08/2017          916         103928  30-34   \n",
       "4  708818      17/08/2017    17/08/2017          916         103928  30-34   \n",
       "\n",
       "   gender  interest1  interest2  interest3  impressions  clicks  spent  \\\n",
       "0       1         15         17         17       7350.0       1   1.43   \n",
       "1       1         16         19         21      17861.0       2   1.82   \n",
       "2       1         20         25         22        693.0       0   0.00   \n",
       "3       1         28         32         32       4259.0       1   1.25   \n",
       "4       1         28         33         32       4133.0       1   1.29   \n",
       "\n",
       "   total_conversion  approved_conversion  age_categorical  \n",
       "0               2.0                  1.0                3  \n",
       "1               2.0                  0.0                3  \n",
       "2               1.0                  0.0                3  \n",
       "3               1.0                  0.0                3  \n",
       "4               1.0                  1.0                3  "
      ]
     },
     "execution_count": 7,
     "metadata": {},
     "output_type": "execute_result"
    }
   ],
   "source": [
    "data.head()"
   ]
  },
  {
   "cell_type": "code",
   "execution_count": 8,
   "metadata": {
    "scrolled": true
   },
   "outputs": [],
   "source": [
    "#This Cell creates a function to determine whether the category variable appears in more than one 'interest' column\n",
    "\n",
    "interest1 = data.interest1\n",
    "interest2 = data.interest2\n",
    "interest3 = data.interest3\n",
    "    \n",
    "column = []\n",
    "def interest():\n",
    "    count = 0\n",
    "    while len(column) <= 760:\n",
    "        if interest1.iloc[count] == interest2.iloc[count]:\n",
    "            count += 1\n",
    "            column.append(1)\n",
    "        if interest1.iloc[count] == interest3.iloc[count]:\n",
    "            count += 1\n",
    "            column.append(1)\n",
    "        if interest2.iloc[count] == interest3.iloc[count]:\n",
    "            count += 1\n",
    "            column.append(1)\n",
    "        else:\n",
    "            count += 1\n",
    "            column.append(0)\n"
   ]
  },
  {
   "cell_type": "code",
   "execution_count": 9,
   "metadata": {
    "scrolled": true
   },
   "outputs": [
    {
     "name": "stdout",
     "output_type": "stream",
     "text": [
      "None\n"
     ]
    },
    {
     "data": {
      "text/html": [
       "<div>\n",
       "<style scoped>\n",
       "    .dataframe tbody tr th:only-of-type {\n",
       "        vertical-align: middle;\n",
       "    }\n",
       "\n",
       "    .dataframe tbody tr th {\n",
       "        vertical-align: top;\n",
       "    }\n",
       "\n",
       "    .dataframe thead th {\n",
       "        text-align: right;\n",
       "    }\n",
       "</style>\n",
       "<table border=\"1\" class=\"dataframe\">\n",
       "  <thead>\n",
       "    <tr style=\"text-align: right;\">\n",
       "      <th></th>\n",
       "      <th>ad_id</th>\n",
       "      <th>reporting_start</th>\n",
       "      <th>reporting_end</th>\n",
       "      <th>campaign_id</th>\n",
       "      <th>fb_campaign_id</th>\n",
       "      <th>age</th>\n",
       "      <th>gender</th>\n",
       "      <th>interest1</th>\n",
       "      <th>interest2</th>\n",
       "      <th>interest3</th>\n",
       "      <th>impressions</th>\n",
       "      <th>clicks</th>\n",
       "      <th>spent</th>\n",
       "      <th>total_conversion</th>\n",
       "      <th>approved_conversion</th>\n",
       "      <th>age_categorical</th>\n",
       "      <th>focused_interest</th>\n",
       "    </tr>\n",
       "  </thead>\n",
       "  <tbody>\n",
       "    <tr>\n",
       "      <th>0</th>\n",
       "      <td>708746</td>\n",
       "      <td>17/08/2017</td>\n",
       "      <td>17/08/2017</td>\n",
       "      <td>916</td>\n",
       "      <td>103916</td>\n",
       "      <td>30-34</td>\n",
       "      <td>1</td>\n",
       "      <td>15</td>\n",
       "      <td>17</td>\n",
       "      <td>17</td>\n",
       "      <td>7350.0</td>\n",
       "      <td>1</td>\n",
       "      <td>1.43</td>\n",
       "      <td>2.0</td>\n",
       "      <td>1.0</td>\n",
       "      <td>3</td>\n",
       "      <td>1</td>\n",
       "    </tr>\n",
       "    <tr>\n",
       "      <th>1</th>\n",
       "      <td>708749</td>\n",
       "      <td>17/08/2017</td>\n",
       "      <td>17/08/2017</td>\n",
       "      <td>916</td>\n",
       "      <td>103917</td>\n",
       "      <td>30-34</td>\n",
       "      <td>1</td>\n",
       "      <td>16</td>\n",
       "      <td>19</td>\n",
       "      <td>21</td>\n",
       "      <td>17861.0</td>\n",
       "      <td>2</td>\n",
       "      <td>1.82</td>\n",
       "      <td>2.0</td>\n",
       "      <td>0.0</td>\n",
       "      <td>3</td>\n",
       "      <td>0</td>\n",
       "    </tr>\n",
       "    <tr>\n",
       "      <th>2</th>\n",
       "      <td>708771</td>\n",
       "      <td>17/08/2017</td>\n",
       "      <td>17/08/2017</td>\n",
       "      <td>916</td>\n",
       "      <td>103920</td>\n",
       "      <td>30-34</td>\n",
       "      <td>1</td>\n",
       "      <td>20</td>\n",
       "      <td>25</td>\n",
       "      <td>22</td>\n",
       "      <td>693.0</td>\n",
       "      <td>0</td>\n",
       "      <td>0.00</td>\n",
       "      <td>1.0</td>\n",
       "      <td>0.0</td>\n",
       "      <td>3</td>\n",
       "      <td>0</td>\n",
       "    </tr>\n",
       "    <tr>\n",
       "      <th>3</th>\n",
       "      <td>708815</td>\n",
       "      <td>30/08/2017</td>\n",
       "      <td>30/08/2017</td>\n",
       "      <td>916</td>\n",
       "      <td>103928</td>\n",
       "      <td>30-34</td>\n",
       "      <td>1</td>\n",
       "      <td>28</td>\n",
       "      <td>32</td>\n",
       "      <td>32</td>\n",
       "      <td>4259.0</td>\n",
       "      <td>1</td>\n",
       "      <td>1.25</td>\n",
       "      <td>1.0</td>\n",
       "      <td>0.0</td>\n",
       "      <td>3</td>\n",
       "      <td>1</td>\n",
       "    </tr>\n",
       "    <tr>\n",
       "      <th>4</th>\n",
       "      <td>708818</td>\n",
       "      <td>17/08/2017</td>\n",
       "      <td>17/08/2017</td>\n",
       "      <td>916</td>\n",
       "      <td>103928</td>\n",
       "      <td>30-34</td>\n",
       "      <td>1</td>\n",
       "      <td>28</td>\n",
       "      <td>33</td>\n",
       "      <td>32</td>\n",
       "      <td>4133.0</td>\n",
       "      <td>1</td>\n",
       "      <td>1.29</td>\n",
       "      <td>1.0</td>\n",
       "      <td>1.0</td>\n",
       "      <td>3</td>\n",
       "      <td>0</td>\n",
       "    </tr>\n",
       "  </tbody>\n",
       "</table>\n",
       "</div>"
      ],
      "text/plain": [
       "    ad_id reporting_start reporting_end  campaign_id fb_campaign_id    age  \\\n",
       "0  708746      17/08/2017    17/08/2017          916         103916  30-34   \n",
       "1  708749      17/08/2017    17/08/2017          916         103917  30-34   \n",
       "2  708771      17/08/2017    17/08/2017          916         103920  30-34   \n",
       "3  708815      30/08/2017    30/08/2017          916         103928  30-34   \n",
       "4  708818      17/08/2017    17/08/2017          916         103928  30-34   \n",
       "\n",
       "   gender  interest1  interest2  interest3  impressions  clicks  spent  \\\n",
       "0       1         15         17         17       7350.0       1   1.43   \n",
       "1       1         16         19         21      17861.0       2   1.82   \n",
       "2       1         20         25         22        693.0       0   0.00   \n",
       "3       1         28         32         32       4259.0       1   1.25   \n",
       "4       1         28         33         32       4133.0       1   1.29   \n",
       "\n",
       "   total_conversion  approved_conversion  age_categorical  focused_interest  \n",
       "0               2.0                  1.0                3                 1  \n",
       "1               2.0                  0.0                3                 0  \n",
       "2               1.0                  0.0                3                 0  \n",
       "3               1.0                  0.0                3                 1  \n",
       "4               1.0                  1.0                3                 0  "
      ]
     },
     "execution_count": 9,
     "metadata": {},
     "output_type": "execute_result"
    }
   ],
   "source": [
    "#This cell adds the result of the interest function from the previous cell to the dataframe\n",
    "\n",
    "print(interest())\n",
    "\n",
    "column = pd.Series(column)\n",
    "\n",
    "data[\"focused_interest\"] = column\n",
    "\n",
    "data.head()"
   ]
  },
  {
   "cell_type": "markdown",
   "metadata": {},
   "source": [
    "# Calculating and Graphing KPIs\n"
   ]
  },
  {
   "cell_type": "code",
   "execution_count": 58,
   "metadata": {},
   "outputs": [],
   "source": [
    "#Creates a time series to graph data by date\n",
    "dates = data\n",
    "\n",
    "dates['date'] = pd.to_datetime(dates['reporting_end'])  # Makes sure your timestamp is in datetime format\n",
    "dates_2 = dates.groupby(pd.Grouper(key='date', freq='D')).sum()\n",
    "\n",
    "date_list = dates_2.index\n",
    "\n",
    "dates_2['dates'] = date_list\n"
   ]
  },
  {
   "cell_type": "code",
   "execution_count": 11,
   "metadata": {},
   "outputs": [
    {
     "data": {
      "text/plain": [
       "Text(0.5, 1.0, 'Conversions with Spent and Clicks over time')"
      ]
     },
     "execution_count": 11,
     "metadata": {},
     "output_type": "execute_result"
    },
    {
     "data": {
      "image/png": "[encoded data removed]",
      "text/plain": [
       "<Figure size 432x288 with 3 Axes>"
      ]
     },
     "metadata": {
      "needs_background": "light"
     },
     "output_type": "display_data"
    }
   ],
   "source": [
    "\n",
    "#Creates a graph with te data from the previous cell\n",
    "\n",
    "fig, ax = plt.subplots()\n",
    "ax3 = ax.twinx()\n",
    "rspine = ax3.spines['right']\n",
    "rspine.set_position(('axes', 1.25))\n",
    "ax3.set_frame_on(True)\n",
    "ax3.patch.set_visible(False)\n",
    "fig.subplots_adjust(right=0.7)\n",
    "\n",
    "dates_2.spent.plot(ax=ax, style='b-')\n",
    "# same ax as above since it's automatically added on the right\n",
    "dates_2.clicks.plot(ax=ax, style='r-', secondary_y=True)\n",
    "dates_2.total_conversion.plot(ax=ax3, style='g-') \n",
    "\n",
    "# add legend --> take advantage of pandas providing us access\n",
    "# to the line associated with the right part of the axis\n",
    "ax3.legend([ax.get_lines()[0], ax.right_ax.get_lines()[0] , ax3.get_lines()[0]], ['Spent', 'Clicks', 'Conversions'], bbox_to_anchor=(1.50, 1.25))\n",
    "ax3.set_ylabel('Total Conversions')\n",
    "ax.set_ylabel('Spent')\n",
    "ax.right_ax.set_ylabel(\"Clicks\")\n",
    "ax.set_title(\"Conversions with Spent and Clicks over time\")\n"
   ]
  },
  {
   "cell_type": "code",
   "execution_count": 12,
   "metadata": {},
   "outputs": [],
   "source": [
    "#Code for creating a table of KPI's based on a list of Dfs. \n",
    "\n",
    "\n",
    "# Takes a list of dataframes and returns a list of values\n",
    "def kpi_names(df_list):\n",
    "    totals = pd.DataFrame(columns=[\"spent\", \"total_conversion\", \"impressions\", \"clicks\"])\n",
    "    kpi_columns = [\"spent\", \"total_conversion\", \"impressions\", \"clicks\"]\n",
    "    empty = []\n",
    "    for df in df_list:\n",
    "            for name in kpi_columns:\n",
    "                empty.append(df[name].sum())\n",
    "    \n",
    "    return (empty)\n",
    "    \n",
    "#Takes the list from kpi_names function and creates a dataframe. User will have to type out to adjust the 'rows'\n",
    "#line based on the number of dataframes in the input list\n",
    "\n",
    "def kpi_arrange(numbers):\n",
    "    totals = pd.DataFrame(columns=[\"spent\", \"total_conversion\", \"impressions\", \"clicks\"])\n",
    "    kpi_columns = [\"spent\", \"total_conversion\", \"impressions\", \"clicks\"]\n",
    "    count = 0\n",
    "    count_two = 0\n",
    "    numbers = pd.Series(numbers)\n",
    "    for row in kpi_columns:\n",
    "            rows = (numbers[count], (numbers[count + 4]), (numbers[count + 8]), (numbers[count + 12] ), (numbers[count + 16]), (numbers[count + 20]), (numbers[count + 24]), (numbers[count + 28]), (numbers[count + 32]), (numbers[count + 36]) )\n",
    "            count += 1\n",
    "            totals[kpi_columns[count_two]] = rows\n",
    "            count_two +=1 \n",
    "    return (totals)\n",
    "\n",
    "#Takes the dataframe from kpi_arrange and caluclates kpis based on the existing columns\n",
    "def kpi_calculator(df):\n",
    "    kpi_columns = [\"spent\", \"total_conversion\", \"impressions\", \"clicks\"]\n",
    "    other_kpi = [\"cost per click\", \"cost per impression\", 'cost per conversion', \"click through rate\", \"conversion rate\"]\n",
    "    count = 0\n",
    "    for row in df:\n",
    "        df[other_kpi[0]] = df[kpi_columns[0]] / df[kpi_columns[3]]\n",
    "        df[other_kpi[1]] = df[kpi_columns[0]] / df[kpi_columns[2]]\n",
    "        df[other_kpi[2]] = df[kpi_columns[0]] / df[kpi_columns[1]]\n",
    "        df[other_kpi[3]] = df[kpi_columns[3]] / df[kpi_columns[2]]\n",
    "        df[other_kpi[4]] = df[kpi_columns[1]] / df[kpi_columns[3]]\n",
    "        return (df)"
   ]
  },
  {
   "cell_type": "code",
   "execution_count": 13,
   "metadata": {},
   "outputs": [],
   "source": [
    "#list of dataframes for the KPI function\n",
    "\n",
    "kpi_overall = data\n",
    "kpi_male = data.query(\"gender == 1\")\n",
    "kpi_female = data.query(\"gender == 0\")\n",
    "kpi_campaign_916 = data.query(\"campaign_id == 916\")\n",
    "kpi_campaign_936 = data.query(\"campaign_id == 936\")\n",
    "kpi_campaign_1178 = data.query(\"campaign_id == 1178\")\n",
    "kpi_age_49 = data.query(\"age_categorical == 0\")\n",
    "kpi_age_44 = data.query(\"age_categorical == 1\")\n",
    "kpi_age_39 = data.query(\"age_categorical == 2\")\n",
    "kpi_age_34 = data.query(\"age_categorical == 3\")\n",
    "\n",
    "kpi_list = [kpi_overall, kpi_male, kpi_female, kpi_campaign_916, kpi_campaign_936, kpi_campaign_1178, kpi_age_49, kpi_age_44, kpi_age_39, kpi_age_34]"
   ]
  },
  {
   "cell_type": "code",
   "execution_count": 14,
   "metadata": {},
   "outputs": [],
   "source": [
    "#running the functions\n",
    "\n",
    "one = kpi_names(kpi_list)\n",
    "\n",
    "two = kpi_arrange(one)\n",
    "\n",
    "kpi_calculation = kpi_calculator(two)"
   ]
  },
  {
   "cell_type": "code",
   "execution_count": 15,
   "metadata": {
    "scrolled": false,
    "slideshow": {
     "slide_type": "skip"
    }
   },
   "outputs": [
    {
     "data": {
      "text/html": [
       "<div>\n",
       "<style scoped>\n",
       "    .dataframe tbody tr th:only-of-type {\n",
       "        vertical-align: middle;\n",
       "    }\n",
       "\n",
       "    .dataframe tbody tr th {\n",
       "        vertical-align: top;\n",
       "    }\n",
       "\n",
       "    .dataframe thead th {\n",
       "        text-align: right;\n",
       "    }\n",
       "</style>\n",
       "<table border=\"1\" class=\"dataframe\">\n",
       "  <thead>\n",
       "    <tr style=\"text-align: right;\">\n",
       "      <th></th>\n",
       "      <th>Segment</th>\n",
       "      <th>spent</th>\n",
       "      <th>total_conversion</th>\n",
       "      <th>impressions</th>\n",
       "      <th>clicks</th>\n",
       "      <th>cost per click</th>\n",
       "      <th>cost per impression</th>\n",
       "      <th>cost per conversion</th>\n",
       "      <th>click through rate</th>\n",
       "      <th>conversion rate</th>\n",
       "    </tr>\n",
       "  </thead>\n",
       "  <tbody>\n",
       "    <tr>\n",
       "      <th>0</th>\n",
       "      <td>Overall</td>\n",
       "      <td>19620.239997</td>\n",
       "      <td>1645.0</td>\n",
       "      <td>78513588.0</td>\n",
       "      <td>11674.0</td>\n",
       "      <td>1.680678</td>\n",
       "      <td>0.000250</td>\n",
       "      <td>11.927198</td>\n",
       "      <td>0.000149</td>\n",
       "      <td>0.140911</td>\n",
       "    </tr>\n",
       "    <tr>\n",
       "      <th>1</th>\n",
       "      <td>Male Demo</td>\n",
       "      <td>17170.029999</td>\n",
       "      <td>1323.0</td>\n",
       "      <td>72026301.0</td>\n",
       "      <td>9989.0</td>\n",
       "      <td>1.718894</td>\n",
       "      <td>0.000238</td>\n",
       "      <td>12.978103</td>\n",
       "      <td>0.000139</td>\n",
       "      <td>0.132446</td>\n",
       "    </tr>\n",
       "    <tr>\n",
       "      <th>2</th>\n",
       "      <td>Female Demo</td>\n",
       "      <td>2450.209999</td>\n",
       "      <td>322.0</td>\n",
       "      <td>6487287.0</td>\n",
       "      <td>1685.0</td>\n",
       "      <td>1.454131</td>\n",
       "      <td>0.000378</td>\n",
       "      <td>7.609348</td>\n",
       "      <td>0.000260</td>\n",
       "      <td>0.191098</td>\n",
       "    </tr>\n",
       "    <tr>\n",
       "      <th>3</th>\n",
       "      <td>Campaign 916</td>\n",
       "      <td>149.710001</td>\n",
       "      <td>58.0</td>\n",
       "      <td>482925.0</td>\n",
       "      <td>113.0</td>\n",
       "      <td>1.324867</td>\n",
       "      <td>0.000310</td>\n",
       "      <td>2.581207</td>\n",
       "      <td>0.000234</td>\n",
       "      <td>0.513274</td>\n",
       "    </tr>\n",
       "    <tr>\n",
       "      <th>4</th>\n",
       "      <td>Campaign 936</td>\n",
       "      <td>2893.369999</td>\n",
       "      <td>537.0</td>\n",
       "      <td>8128187.0</td>\n",
       "      <td>1984.0</td>\n",
       "      <td>1.458352</td>\n",
       "      <td>0.000356</td>\n",
       "      <td>5.388026</td>\n",
       "      <td>0.000244</td>\n",
       "      <td>0.270665</td>\n",
       "    </tr>\n",
       "    <tr>\n",
       "      <th>5</th>\n",
       "      <td>Campaign 1178</td>\n",
       "      <td>16577.159998</td>\n",
       "      <td>1050.0</td>\n",
       "      <td>69902476.0</td>\n",
       "      <td>9577.0</td>\n",
       "      <td>1.730935</td>\n",
       "      <td>0.000237</td>\n",
       "      <td>15.787771</td>\n",
       "      <td>0.000137</td>\n",
       "      <td>0.109638</td>\n",
       "    </tr>\n",
       "    <tr>\n",
       "      <th>6</th>\n",
       "      <td>Age 45-49</td>\n",
       "      <td>2443.870000</td>\n",
       "      <td>163.0</td>\n",
       "      <td>6788029.0</td>\n",
       "      <td>1576.0</td>\n",
       "      <td>1.550679</td>\n",
       "      <td>0.000360</td>\n",
       "      <td>14.993067</td>\n",
       "      <td>0.000232</td>\n",
       "      <td>0.103426</td>\n",
       "    </tr>\n",
       "    <tr>\n",
       "      <th>7</th>\n",
       "      <td>Age 40-44</td>\n",
       "      <td>4337.629999</td>\n",
       "      <td>235.0</td>\n",
       "      <td>15881589.0</td>\n",
       "      <td>2660.0</td>\n",
       "      <td>1.630688</td>\n",
       "      <td>0.000273</td>\n",
       "      <td>18.458000</td>\n",
       "      <td>0.000167</td>\n",
       "      <td>0.088346</td>\n",
       "    </tr>\n",
       "    <tr>\n",
       "      <th>8</th>\n",
       "      <td>Age 35-39</td>\n",
       "      <td>5145.520004</td>\n",
       "      <td>357.0</td>\n",
       "      <td>20165377.0</td>\n",
       "      <td>3005.0</td>\n",
       "      <td>1.712319</td>\n",
       "      <td>0.000255</td>\n",
       "      <td>14.413221</td>\n",
       "      <td>0.000149</td>\n",
       "      <td>0.118802</td>\n",
       "    </tr>\n",
       "    <tr>\n",
       "      <th>9</th>\n",
       "      <td>Age 30-34</td>\n",
       "      <td>7693.219994</td>\n",
       "      <td>890.0</td>\n",
       "      <td>35678593.0</td>\n",
       "      <td>4433.0</td>\n",
       "      <td>1.735443</td>\n",
       "      <td>0.000216</td>\n",
       "      <td>8.644067</td>\n",
       "      <td>0.000124</td>\n",
       "      <td>0.200767</td>\n",
       "    </tr>\n",
       "  </tbody>\n",
       "</table>\n",
       "</div>"
      ],
      "text/plain": [
       "         Segment         spent  total_conversion  impressions   clicks  \\\n",
       "0        Overall  19620.239997            1645.0   78513588.0  11674.0   \n",
       "1      Male Demo  17170.029999            1323.0   72026301.0   9989.0   \n",
       "2    Female Demo   2450.209999             322.0    6487287.0   1685.0   \n",
       "3   Campaign 916    149.710001              58.0     482925.0    113.0   \n",
       "4   Campaign 936   2893.369999             537.0    8128187.0   1984.0   \n",
       "5  Campaign 1178  16577.159998            1050.0   69902476.0   9577.0   \n",
       "6      Age 45-49   2443.870000             163.0    6788029.0   1576.0   \n",
       "7      Age 40-44   4337.629999             235.0   15881589.0   2660.0   \n",
       "8      Age 35-39   5145.520004             357.0   20165377.0   3005.0   \n",
       "9      Age 30-34   7693.219994             890.0   35678593.0   4433.0   \n",
       "\n",
       "   cost per click  cost per impression  cost per conversion  \\\n",
       "0        1.680678             0.000250            11.927198   \n",
       "1        1.718894             0.000238            12.978103   \n",
       "2        1.454131             0.000378             7.609348   \n",
       "3        1.324867             0.000310             2.581207   \n",
       "4        1.458352             0.000356             5.388026   \n",
       "5        1.730935             0.000237            15.787771   \n",
       "6        1.550679             0.000360            14.993067   \n",
       "7        1.630688             0.000273            18.458000   \n",
       "8        1.712319             0.000255            14.413221   \n",
       "9        1.735443             0.000216             8.644067   \n",
       "\n",
       "   click through rate  conversion rate  \n",
       "0            0.000149         0.140911  \n",
       "1            0.000139         0.132446  \n",
       "2            0.000260         0.191098  \n",
       "3            0.000234         0.513274  \n",
       "4            0.000244         0.270665  \n",
       "5            0.000137         0.109638  \n",
       "6            0.000232         0.103426  \n",
       "7            0.000167         0.088346  \n",
       "8            0.000149         0.118802  \n",
       "9            0.000124         0.200767  "
      ]
     },
     "execution_count": 15,
     "metadata": {},
     "output_type": "execute_result"
    }
   ],
   "source": [
    "#This section creates a dataframe with relevant kpi's and labels the columns\n",
    "kpi_rows= ['Overall', 'Male Demo', 'Female Demo', 'Campaign 916', 'Campaign 936', 'Campaign 1178', 'Age 45-49', 'Age 40-44', 'Age 35-39',  'Age 30-34']\n",
    "\n",
    "column_names = [\"Segment\", \"spent\", \"total_conversion\", \"impressions\", \"clicks\", \"cost per click\", \"cost per impression\", 'cost per conversion', \"click through rate\", \"conversion rate\"]\n",
    "\n",
    "all_kpi = pd.concat(kpi_list)\n",
    "       \n",
    "kpi_calculation.reset_index(drop=True, inplace=True)      \n",
    "\n",
    "\n",
    "kpi_calculation[\"Segment\"] = kpi_rows\n",
    "\n",
    "kpi_calculation = kpi_calculation[[\"Segment\", \"spent\", \"total_conversion\", \"impressions\", \"clicks\", \"cost per click\", \"cost per impression\", 'cost per conversion', \"click through rate\", \"conversion rate\"]]\n",
    "\n",
    "kpi_calculation"
   ]
  },
  {
   "cell_type": "code",
   "execution_count": 16,
   "metadata": {},
   "outputs": [
    {
     "data": {
      "application/vnd.jupyter.widget-view+json": {
       "model_id": "b81dad7d24904635b2c6ca62a905349b",
       "version_major": 2,
       "version_minor": 0
      },
      "text/plain": [
       "interactive(children=(Dropdown(description='hue', options=('spent', 'impressions', 'clicks', 'cost per click',…"
      ]
     },
     "metadata": {},
     "output_type": "display_data"
    }
   ],
   "source": [
    "#crearting some graphs\n",
    "\n",
    "dboard_names = [\"Segment\", \"spent\",\"impressions\", \"clicks\", \"cost per click\", \"cost per impression\", 'cost per conversion', \"click through rate\", \"conversion rate\"]\n",
    "\n",
    "@interact(hue=[\"spent\",\"impressions\", \"clicks\", \"cost per click\", \"cost per impression\", 'cost per conversion', \"click through rate\", \"conversion rate\"])\n",
    "def plot(hue):\n",
    "    _ = sns.pairplot(kpi_calculation,\n",
    "                     x_vars = hue ,\n",
    "                     y_vars = [\"Segment\", \"total_conversion\"],\n",
    "                     hue = hue\n",
    "                    )\n"
   ]
  },
  {
   "cell_type": "code",
   "execution_count": 17,
   "metadata": {},
   "outputs": [
    {
     "data": {
      "text/plain": [
       "Text(0.5, 1.0, 'Percent of ads targeted by Gender')"
      ]
     },
     "execution_count": 17,
     "metadata": {},
     "output_type": "execute_result"
    },
    {
     "data": {
      "image/png": "[encoded data removed]",
      "text/plain": [
       "<Figure size 576x360 with 1 Axes>"
      ]
     },
     "metadata": {},
     "output_type": "display_data"
    }
   ],
   "source": [
    "#pie chart for number of ads targeted by gender\n",
    "sizes = [len(data.query(\"gender == 0\")) , len(data.query(\"gender == 1\"))]\n",
    "labels = [ \"Female\", \"Male\"]\n",
    "\n",
    "colors = ['tan', 'deepskyblue']\n",
    "\n",
    "fig, ax = plt.subplots(figsize=(8, 5), subplot_kw=dict(aspect=\"equal\"))\n",
    "plt.pie(sizes,  labels = labels, autopct='%1.1f%%', colors=colors)\n",
    "ax.set_title(\"Percent of ads targeted by Gender\")"
   ]
  },
  {
   "cell_type": "code",
   "execution_count": 18,
   "metadata": {},
   "outputs": [
    {
     "data": {
      "text/plain": [
       "Text(0.5, 1.0, 'Percent of Total Money Spent by campaign')"
      ]
     },
     "execution_count": 18,
     "metadata": {},
     "output_type": "execute_result"
    },
    {
     "data": {
      "image/png": "[encoded data removed]",
      "text/plain": [
       "<Figure size 576x360 with 1 Axes>"
      ]
     },
     "metadata": {},
     "output_type": "display_data"
    }
   ],
   "source": [
    "#Pie chart for total money spent by campaign\n",
    "sizes_two = [kpi_campaign_916.spent.sum() , kpi_campaign_936.spent.sum(), kpi_campaign_1178.spent.sum() ]\n",
    "labels_two = [\"Campaign 916\", \"Campaign 936\", \"Campaign 1178\"]\n",
    "\n",
    "colors = ['pink','r','gold']\n",
    "\n",
    "fig, ax = plt.subplots(figsize=(8, 5), subplot_kw=dict(aspect=\"equal\"))\n",
    "plt.pie(sizes_two,  labels = labels_two, autopct='%1.1f%%', colors=colors)\n",
    "ax.set_title(\"Percent of Total Money Spent by campaign\")\n"
   ]
  },
  {
   "cell_type": "code",
   "execution_count": 19,
   "metadata": {},
   "outputs": [
    {
     "data": {
      "text/plain": [
       "Text(0.5, 1.0, 'Percent of Total Money Spent by Gender')"
      ]
     },
     "execution_count": 19,
     "metadata": {},
     "output_type": "execute_result"
    },
    {
     "data": {
      "image/png": "[encoded data removed]",
      "text/plain": [
       "<Figure size 576x360 with 1 Axes>"
      ]
     },
     "metadata": {},
     "output_type": "display_data"
    }
   ],
   "source": [
    "#Pie chart for total money spent by gender\n",
    "sizes_three = [data.query(\"gender == 0\").spent.sum(), data.query(\"gender == 1\").spent.sum()]\n",
    "labels_three = [\"Female Demo\", \"Male Demo\"]\n",
    "colors = ['tan', 'deepskyblue']\n",
    "\n",
    "fig, ax = plt.subplots(figsize=(8,5), subplot_kw=dict(aspect=\"equal\"))\n",
    "plt.pie(sizes_three, labels=labels_three, autopct='%1.1f%%', colors=colors)\n",
    "ax.set_title(\"Percent of Total Money Spent by Gender\")"
   ]
  },
  {
   "cell_type": "code",
   "execution_count": 61,
   "metadata": {},
   "outputs": [
    {
     "data": {
      "text/html": [
       "<div>\n",
       "<style scoped>\n",
       "    .dataframe tbody tr th:only-of-type {\n",
       "        vertical-align: middle;\n",
       "    }\n",
       "\n",
       "    .dataframe tbody tr th {\n",
       "        vertical-align: top;\n",
       "    }\n",
       "\n",
       "    .dataframe thead th {\n",
       "        text-align: right;\n",
       "    }\n",
       "</style>\n",
       "<table border=\"1\" class=\"dataframe\">\n",
       "  <thead>\n",
       "    <tr style=\"text-align: right;\">\n",
       "      <th></th>\n",
       "      <th>campaign_id</th>\n",
       "      <th>Age 30-34</th>\n",
       "      <th>Age 35-39</th>\n",
       "      <th>Age 40-44</th>\n",
       "      <th>Age 45-49</th>\n",
       "    </tr>\n",
       "  </thead>\n",
       "  <tbody>\n",
       "    <tr>\n",
       "      <th>0</th>\n",
       "      <td>916</td>\n",
       "      <td>75.330000</td>\n",
       "      <td>23.640000</td>\n",
       "      <td>16.810000</td>\n",
       "      <td>33.930000</td>\n",
       "    </tr>\n",
       "    <tr>\n",
       "      <th>1</th>\n",
       "      <td>936</td>\n",
       "      <td>391.440000</td>\n",
       "      <td>383.430001</td>\n",
       "      <td>450.400000</td>\n",
       "      <td>1668.099997</td>\n",
       "    </tr>\n",
       "    <tr>\n",
       "      <th>2</th>\n",
       "      <td>1178</td>\n",
       "      <td>7226.449993</td>\n",
       "      <td>4738.450003</td>\n",
       "      <td>3870.419999</td>\n",
       "      <td>741.840003</td>\n",
       "    </tr>\n",
       "  </tbody>\n",
       "</table>\n",
       "</div>"
      ],
      "text/plain": [
       "  campaign_id    Age 30-34    Age 35-39    Age 40-44    Age 45-49\n",
       "0         916    75.330000    23.640000    16.810000    33.930000\n",
       "1         936   391.440000   383.430001   450.400000  1668.099997\n",
       "2        1178  7226.449993  4738.450003  3870.419999   741.840003"
      ]
     },
     "execution_count": 61,
     "metadata": {},
     "output_type": "execute_result"
    }
   ],
   "source": [
    "#creates a dataframe to graph a bar chart in the next cell\n",
    "\n",
    "raw_data = {'campaign_id': ['916', '936', '1178'],\n",
    "            'Age 30-34': [kpi_campaign_916.query(\"age_categorical == 3\").spent.sum(), kpi_campaign_936.query(\"age_categorical == 3\").spent.sum(), kpi_campaign_1178.query(\"age_categorical == 3\").spent.sum()],  \n",
    "        'Age 35-39': [kpi_campaign_916.query(\"age_categorical == 2\").spent.sum(), kpi_campaign_936.query(\"age_categorical == 2\").spent.sum(), kpi_campaign_1178.query(\"age_categorical == 2\").spent.sum()],\n",
    "        'Age 40-44': [kpi_campaign_916.query(\"age_categorical == 1\").spent.sum(), kpi_campaign_936.query(\"age_categorical == 1\").spent.sum(), kpi_campaign_1178.query(\"age_categorical == 1\").spent.sum()],\n",
    "        'Age 45-49': [kpi_campaign_916.query(\"age_categorical == 0\").spent.sum(), kpi_campaign_936.query(\"age_categorical == 0\").spent.sum(), kpi_campaign_1178.query(\"age_categorical == 0\").spent.sum()]\n",
    "                   }\n",
    "\n",
    "df = pd.DataFrame(raw_data, columns = ['campaign_id', 'Age 30-34', 'Age 35-39', 'Age 40-44', 'Age 45-49'])\n",
    "\n",
    "df"
   ]
  },
  {
   "cell_type": "code",
   "execution_count": 21,
   "metadata": {},
   "outputs": [
    {
     "data": {
      "text/plain": [
       "Text(0.5, 0, 'Campaign Id')"
      ]
     },
     "execution_count": 21,
     "metadata": {},
     "output_type": "execute_result"
    },
    {
     "data": {
      "image/png": "[encoded data removed]",
      "text/plain": [
       "<Figure size 432x288 with 1 Axes>"
      ]
     },
     "metadata": {
      "needs_background": "light"
     },
     "output_type": "display_data"
    }
   ],
   "source": [
    "#uses data from previous cell to bar graph\n",
    "\n",
    "colors = ['green', 'aqua', 'peru', 'slategrey']\n",
    "\n",
    "df.plot(x=\"campaign_id\", y=[\"Age 30-34\", \"Age 35-39\", \"Age 40-44\", \"Age 45-49\"], kind=\"bar\", color=colors)\n",
    "plt.title('Targeted Ages by Campaign')\n",
    "plt.ylabel('Money spent by Age ')\n",
    "plt.xlabel('Campaign Id')"
   ]
  },
  {
   "cell_type": "code",
   "execution_count": 22,
   "metadata": {},
   "outputs": [
    {
     "data": {
      "text/plain": [
       "Text(0.5, 0, 'Campaign Id')"
      ]
     },
     "execution_count": 22,
     "metadata": {},
     "output_type": "execute_result"
    },
    {
     "data": {
      "image/png": "[encoded data removed]",
      "text/plain": [
       "<Figure size 432x288 with 1 Axes>"
      ]
     },
     "metadata": {
      "needs_background": "light"
     },
     "output_type": "display_data"
    }
   ],
   "source": [
    "#creates a bar graph similar to above\n",
    "\n",
    "raw_data = {'campaign_id': ['916', '936', '1178'],\n",
    "            'Male': [kpi_campaign_916.query(\"gender == 1\").spent.sum(), kpi_campaign_936.query(\"gender == 1\").spent.sum(), kpi_campaign_1178.query(\"gender == 1\").spent.sum()],  \n",
    "        'Female': [kpi_campaign_916.query(\"gender == 0\").spent.sum(), kpi_campaign_936.query(\"gender == 0\").spent.sum(), kpi_campaign_1178.query(\"gender == 0\").spent.sum()],\n",
    "                   }\n",
    "\n",
    "colors = ['deepskyblue', 'tan']\n",
    "\n",
    "df2 =  pd.DataFrame(raw_data, columns = ['campaign_id', 'Male', 'Female'])\n",
    "\n",
    "df2[['campaign_id', 'Male', 'Female']].plot(x=\"campaign_id\", kind=\"bar\", color=colors)\n",
    "\n",
    "plt.title('Targeted Gender by Campaign')\n",
    "plt.ylabel('Money spent by Gender')\n",
    "plt.xlabel('Campaign Id')"
   ]
  },
  {
   "cell_type": "code",
   "execution_count": 53,
   "metadata": {},
   "outputs": [
    {
     "data": {
      "text/plain": [
       "Text(0.5, 1.0, 'Cost Per Click')"
      ]
     },
     "execution_count": 53,
     "metadata": {},
     "output_type": "execute_result"
    },
    {
     "data": {
      "image/png": "[encoded data removed]",
      "text/plain": [
       "<Figure size 576x288 with 1 Axes>"
      ]
     },
     "metadata": {
      "needs_background": "light"
     },
     "output_type": "display_data"
    }
   ],
   "source": [
    "#graphing KPis\n",
    "\n",
    "plt.figure(figsize=(8,4))\n",
    "ax = sns.barplot(x=\"Segment\", y=\"cost per click\", data=kpi_calculation)\n",
    "ax.set_xticklabels(ax.get_xticklabels(), rotation=40, ha=\"right\")\n",
    "plt.tight_layout()\n",
    "plt.title('Cost Per Click')\n"
   ]
  },
  {
   "cell_type": "code",
   "execution_count": 57,
   "metadata": {},
   "outputs": [
    {
     "data": {
      "text/plain": [
       "Text(0.5, 1.0, 'Cost per Conversion in dollars')"
      ]
     },
     "execution_count": 57,
     "metadata": {},
     "output_type": "execute_result"
    },
    {
     "data": {
      "image/png": "[encoded data removed]",
      "text/plain": [
       "<Figure size 576x288 with 1 Axes>"
      ]
     },
     "metadata": {
      "needs_background": "light"
     },
     "output_type": "display_data"
    }
   ],
   "source": [
    "#graphing KPis\n",
    "\n",
    "plt.figure(figsize=(8,4))\n",
    "ax = sns.barplot(x=\"Segment\", y=\"cost per conversion\", data=kpi_calculation)\n",
    "ax.set_xticklabels(ax.get_xticklabels(), rotation=40, ha=\"right\")\n",
    "plt.tight_layout()\n",
    "plt.title('Cost per Conversion in dollars')"
   ]
  },
  {
   "cell_type": "code",
   "execution_count": 55,
   "metadata": {
    "scrolled": true
   },
   "outputs": [
    {
     "data": {
      "text/plain": [
       "Text(0.5, 1.0, 'Conversion Rate')"
      ]
     },
     "execution_count": 55,
     "metadata": {},
     "output_type": "execute_result"
    },
    {
     "data": {
      "image/png": "[encoded data removed]",
      "text/plain": [
       "<Figure size 576x288 with 1 Axes>"
      ]
     },
     "metadata": {
      "needs_background": "light"
     },
     "output_type": "display_data"
    }
   ],
   "source": [
    "#graphing KPis\n",
    "\n",
    "plt.figure(figsize=(8,4))\n",
    "ax = sns.barplot(x=\"Segment\", y=\"conversion rate\", data=kpi_calculation)\n",
    "ax.set_xticklabels(ax.get_xticklabels(), rotation=40, ha=\"right\")\n",
    "plt.tight_layout()\n",
    "plt.title('Conversion Rate')"
   ]
  },
  {
   "cell_type": "code",
   "execution_count": 56,
   "metadata": {
    "scrolled": true
   },
   "outputs": [
    {
     "data": {
      "text/plain": [
       "Text(0.5, 1.0, 'Click Through Rate')"
      ]
     },
     "execution_count": 56,
     "metadata": {},
     "output_type": "execute_result"
    },
    {
     "data": {
      "image/png": "[encoded data removed]",
      "text/plain": [
       "<Figure size 576x288 with 1 Axes>"
      ]
     },
     "metadata": {
      "needs_background": "light"
     },
     "output_type": "display_data"
    }
   ],
   "source": [
    "#graphing KPis\n",
    "\n",
    "plt.figure(figsize=(8,4))\n",
    "ax = sns.barplot(x=\"Segment\", y=\"click through rate\", data=kpi_calculation)\n",
    "ax.set_xticklabels(ax.get_xticklabels(), rotation=40, ha=\"right\")\n",
    "plt.tight_layout()\n",
    "plt.title('Click Through Rate')"
   ]
  },
  {
   "cell_type": "code",
   "execution_count": 24,
   "metadata": {},
   "outputs": [],
   "source": [
    "#creates a list of dataframes to calulate KPIs\n",
    "\n",
    "kpi_female_34 = kpi_female.query(\"age_categorical == 3\")\n",
    "kpi_female_39 = kpi_female.query(\"age_categorical == 2\")\n",
    "kpi_female_44 = kpi_female.query(\"age_categorical == 1\")\n",
    "kpi_female_49 = kpi_female.query(\"age_categorical == 0\")\n",
    "kpi_male_34 = kpi_male.query(\"age_categorical == 3\")\n",
    "kpi_male_39 = kpi_male.query(\"age_categorical == 2\")\n",
    "kpi_male_44 = kpi_male.query(\"age_categorical == 1\")\n",
    "kpi_male_49 = kpi_male.query(\"age_categorical == 0\")\n",
    "kpi_focused_interest = data.query(\"focused_interest == 1\")\n",
    "kpi_unfocused_interest = data.query(\"focused_interest == 0\")\n",
    "\n",
    "kpi_list_two = [kpi_female_34, kpi_female_39, kpi_female_44, kpi_female_49, kpi_male_34, kpi_male_39, kpi_male_44, kpi_male_49, kpi_focused_interest, kpi_unfocused_interest]\n",
    "\n"
   ]
  },
  {
   "cell_type": "code",
   "execution_count": 25,
   "metadata": {},
   "outputs": [],
   "source": [
    "#runs the KPi calulator functions\n",
    "\n",
    "four = kpi_names(kpi_list_two)\n",
    "\n",
    "five = kpi_arrange(four)\n",
    "\n",
    "kpi_calculation_two = kpi_calculator(five)\n",
    "\n"
   ]
  },
  {
   "cell_type": "code",
   "execution_count": 59,
   "metadata": {
    "scrolled": true
   },
   "outputs": [],
   "source": [
    "#creates a dataframe and labels it \n",
    "\n",
    "kpi_rows_two = ['Female 30-34', 'Female 35-39', 'Female 40-44', 'Female 45-49', 'Male 30-34', 'Male 35-39', 'Male 40-44', 'Male 45-49', 'Focused interests',  'Unfocused interests']\n",
    "\n",
    "column_names = [\"Segment\", \"spent\", \"total_conversion\", \"impressions\", \"clicks\", \"cost per click\", \"cost per impression\", 'cost per conversion', \"click through rate\", \"conversion rate\"]\n",
    "\n",
    "kpi_two = pd.concat(kpi_list_two)\n",
    "       \n",
    "kpi_calculation_two.reset_index(drop=True, inplace=True)      \n",
    "\n",
    "\n",
    "kpi_calculation_two[\"Segment\"] = kpi_rows_two\n",
    "\n",
    "kpi_calculation_two = kpi_calculation_two[[\"Segment\", \"spent\", \"total_conversion\", \"impressions\", \"clicks\", \"cost per click\", \"cost per impression\", 'cost per conversion', \"click through rate\", \"conversion rate\"]]\n"
   ]
  },
  {
   "cell_type": "code",
   "execution_count": 27,
   "metadata": {},
   "outputs": [
    {
     "data": {
      "application/vnd.jupyter.widget-view+json": {
       "model_id": "caee89e47330403c8d0243d9af9497e7",
       "version_major": 2,
       "version_minor": 0
      },
      "text/plain": [
       "interactive(children=(Dropdown(description='hue', options=('spent', 'impressions', 'clicks', 'cost per click',…"
      ]
     },
     "metadata": {},
     "output_type": "display_data"
    }
   ],
   "source": [
    "#creates more graphs\n",
    "\n",
    "dboard_names = [\"Segment\", \"spent\",\"impressions\", \"clicks\", \"cost per click\", \"cost per impression\", 'cost per conversion', \"click through rate\", \"conversion rate\"]\n",
    "\n",
    "@interact(hue=[\"spent\",\"impressions\", \"clicks\", \"cost per click\", \"cost per impression\", 'cost per conversion', \"click through rate\", \"conversion rate\"])\n",
    "def plot(hue):\n",
    "    _ = sns.pairplot(kpi_calculation_two,\n",
    "                     x_vars = hue ,\n",
    "                     y_vars = [\"Segment\", \"total_conversion\"],\n",
    "                     hue = hue\n",
    "                    )"
   ]
  },
  {
   "cell_type": "code",
   "execution_count": 28,
   "metadata": {},
   "outputs": [],
   "source": [
    "\n",
    "\n",
    "kpi_916_m = kpi_campaign_916.query(\"gender == 1\")\n",
    "kpi_916_f = kpi_campaign_916.query(\"gender == 0\")\n",
    "kpi_916_focused = kpi_campaign_916.query(\"focused_interest == 1\")\n",
    "kpi_916_unfocused = kpi_campaign_916.query(\"focused_interest == 0\")\n",
    "kpi_936_m = kpi_campaign_936.query(\"gender == 1\")\n",
    "kpi_936_f = kpi_campaign_936.query(\"gender == 0\")\n",
    "kpi_936_focused = kpi_campaign_936.query(\"focused_interest == 1\")\n",
    "kpi_936_unfocused = kpi_campaign_936.query(\"focused_interest == 0\")\n",
    "kpi_1178_m = kpi_campaign_1178.query(\"gender == 1\")\n",
    "kpi_1178_f = kpi_campaign_1178.query(\"gender == 0\")\n",
    "kpi_1178_focused = kpi_campaign_1178.query(\"focused_interest == 1\")\n",
    "kpi_1178_unfocused = kpi_campaign_1178.query(\"focused_interest == 0\")\n",
    "\n",
    "kpi_list_three = [kpi_916_m , kpi_916_f, kpi_916_focused, kpi_916_unfocused, kpi_936_m, kpi_936_f, kpi_936_focused, kpi_936_unfocused, kpi_1178_m, kpi_1178_f, kpi_1178_focused, kpi_1178_unfocused ]"
   ]
  },
  {
   "cell_type": "code",
   "execution_count": 29,
   "metadata": {},
   "outputs": [],
   "source": [
    "#Function needs to be updated to accomodate 12 dataframes instead of 10\n",
    "\n",
    "def kpi_arrange(numbers):\n",
    "    totals = pd.DataFrame(columns=[\"spent\", \"total_conversion\", \"impressions\", \"clicks\"])\n",
    "    kpi_columns = [\"spent\", \"total_conversion\", \"impressions\", \"clicks\"]\n",
    "    count = 0\n",
    "    count_two = 0\n",
    "    numbers = pd.Series(numbers)\n",
    "    for row in kpi_columns:\n",
    "            rows = (numbers[count], (numbers[count + 4]), (numbers[count + 8]), (numbers[count + 12] ), (numbers[count + 16]), (numbers[count + 20]), (numbers[count + 24]), (numbers[count + 28]), (numbers[count + 32]), (numbers[count + 36]), (numbers[count + 40]), (numbers[count + 44]) )\n",
    "            count += 1\n",
    "            totals[kpi_columns[count_two]] = rows\n",
    "            count_two +=1 \n",
    "    return (totals)\n",
    "\n",
    "\n",
    "\n",
    "\n",
    "kpis_gender_campaign = kpi_names(kpi_list_three)\n",
    "\n",
    "kpis_gender_campaign = kpi_arrange(kpis_gender_campaign)\n",
    "\n",
    "kpi_calculation_three = kpi_calculator(kpis_gender_campaign)\n",
    "\n"
   ]
  },
  {
   "cell_type": "code",
   "execution_count": 30,
   "metadata": {
    "scrolled": true
   },
   "outputs": [],
   "source": [
    "kpi_rows_three = [\"Campiagn 916 Male Demo\", \"Campiagn 916 Female Demo\", \"Campaign 916 Focused Interest\", \"Campaign 916 Unfocused Interest\", \"Campiagn 936 Male Demo\", \"Campiagn 936 Female Demo\", \"Campaign 936 Focused Interest\", \"Campaign 936 Unfocused Interest\", \"Campiagn 1176 Male Demo\",  \"Campiagn 1176 Female Demo\", \"Campaign 1176 Unfocused Interest\", \"Campaign 1176 Unfocused Interest\"]\n",
    "\n",
    "column_names = [\"Segment\", \"spent\", \"total_conversion\", \"impressions\", \"clicks\", \"cost per click\", \"cost per impression\", 'cost per conversion', \"click through rate\", \"conversion rate\"]\n",
    "\n",
    "kpi_three = pd.concat(kpi_list_three)\n",
    "       \n",
    "kpi_calculation_three.reset_index(drop=True, inplace=True)      \n",
    "\n",
    "\n",
    "kpi_calculation_three[\"Segment\"] = kpi_rows_three\n",
    "\n",
    "kpi_calculation_three = kpi_calculation_three[[\"Segment\", \"spent\", \"total_conversion\", \"impressions\", \"clicks\", \"cost per click\", \"cost per impression\", 'cost per conversion', \"click through rate\", \"conversion rate\"]]\n",
    "\n"
   ]
  },
  {
   "cell_type": "code",
   "execution_count": 31,
   "metadata": {},
   "outputs": [
    {
     "data": {
      "application/vnd.jupyter.widget-view+json": {
       "model_id": "b5f1a87fb10e4c5680fc1b88811b6946",
       "version_major": 2,
       "version_minor": 0
      },
      "text/plain": [
       "interactive(children=(Dropdown(description='hue', options=('spent', 'impressions', 'clicks', 'cost per click',…"
      ]
     },
     "metadata": {},
     "output_type": "display_data"
    }
   ],
   "source": [
    "dboard_names = [\"Segment\", \"spent\",\"impressions\", \"clicks\", \"cost per click\", \"cost per impression\", 'cost per conversion', \"click through rate\", \"conversion rate\"]\n",
    "\n",
    "@interact(hue=[\"spent\",\"impressions\", \"clicks\", \"cost per click\", \"cost per impression\", 'cost per conversion', \"click through rate\", \"conversion rate\"])\n",
    "def plot(hue):\n",
    "    _ = sns.pairplot(kpi_calculation_three,\n",
    "                     x_vars = hue ,\n",
    "                     y_vars = [\"Segment\", \"total_conversion\"],\n",
    "                     hue = hue\n",
    "                    )"
   ]
  },
  {
   "cell_type": "code",
   "execution_count": 32,
   "metadata": {},
   "outputs": [],
   "source": [
    "kpi_916_34 = kpi_campaign_916.query(\"age_categorical == 3\")\n",
    "kpi_916_39 = kpi_campaign_916.query(\"age_categorical == 2\")\n",
    "kpi_916_44 = kpi_campaign_916.query(\"age_categorical == 1\")\n",
    "kpi_916_49 = kpi_campaign_916.query(\"age_categorical == 0\")\n",
    "kpi_936_34 = kpi_campaign_936.query(\"age_categorical == 3\")\n",
    "kpi_936_39 = kpi_campaign_936.query(\"age_categorical == 2\")\n",
    "kpi_936_44 = kpi_campaign_936.query(\"age_categorical == 1\")\n",
    "kpi_936_49 = kpi_campaign_936.query(\"age_categorical == 0\")\n",
    "kpi_1178_34 = kpi_campaign_1178.query(\"age_categorical == 3\")\n",
    "kpi_1178_39 = kpi_campaign_1178.query(\"age_categorical == 2\")\n",
    "kpi_1178_44 = kpi_campaign_1178.query(\"age_categorical == 1\")\n",
    "kpi_1178_49 = kpi_campaign_1178.query(\"age_categorical == 0\")\n",
    "\n",
    "kpi_list_four = [kpi_916_34, kpi_916_39, kpi_916_44, kpi_916_49, kpi_936_34,kpi_936_39, kpi_936_44, kpi_936_49, kpi_1178_34, kpi_1178_39,kpi_1178_44, kpi_1178_49]"
   ]
  },
  {
   "cell_type": "code",
   "execution_count": 33,
   "metadata": {},
   "outputs": [],
   "source": [
    "kpis_campaign_by_age = kpi_names(kpi_list_four)\n",
    "\n",
    "kpis_campaign_by_age = kpi_arrange(kpis_campaign_by_age)\n",
    "\n",
    "kpi_calculation_four = kpi_calculator(kpis_campaign_by_age)\n",
    "\n",
    "\n",
    "\n"
   ]
  },
  {
   "cell_type": "code",
   "execution_count": 34,
   "metadata": {},
   "outputs": [],
   "source": [
    "kpi_rows_four = [\"Campiagn 916 Age 30-34\", \"Campiagn 916 Age 35-39\", \"Campaign 916 Age 40-44\", \"Campaign 916 Age 45-49\", \"Campiagn 936 Age 30-34\", \"Campiagn 936 Age 35-39\", \"Campaign 936 Age 40-44\", \"Campaign 936 Age 45-49\", \"Campaign 1176 Age 30-34\",  \"Campiagn 1176 Age 35-39\", \"Campaign 1176 Age 40-44\", \"Campaign 1176 Age 45-49\"]\n",
    "\n",
    "column_names = [\"Segment\", \"spent\", \"total_conversion\", \"impressions\", \"clicks\", \"cost per click\", \"cost per impression\", 'cost per conversion', \"click through rate\", \"conversion rate\"]\n",
    "\n",
    "kpi_three = pd.concat(kpi_list_four)\n",
    "       \n",
    "kpi_calculation_four.reset_index(drop=True, inplace=True)      \n",
    "\n",
    "\n",
    "kpi_calculation_four[\"Segment\"] = kpi_rows_four\n",
    "\n",
    "kpi_calculation_four = kpi_calculation_four[[\"Segment\", \"spent\", \"total_conversion\", \"impressions\", \"clicks\", \"cost per click\", \"cost per impression\", 'cost per conversion', \"click through rate\", \"conversion rate\"]]\n"
   ]
  },
  {
   "cell_type": "code",
   "execution_count": 60,
   "metadata": {},
   "outputs": [
    {
     "data": {
      "application/vnd.jupyter.widget-view+json": {
       "model_id": "a3e99d9137b148d6b441867f67d2bb39",
       "version_major": 2,
       "version_minor": 0
      },
      "text/plain": [
       "interactive(children=(Dropdown(description='hue', options=('spent', 'impressions', 'clicks', 'cost per click',…"
      ]
     },
     "metadata": {},
     "output_type": "display_data"
    }
   ],
   "source": [
    "#creates more graphs\n",
    "\n",
    "dboard_names = [\"Segment\", \"spent\",\"impressions\", \"clicks\", \"cost per click\", \"cost per impression\", 'cost per conversion', \"click through rate\", \"conversion rate\"]\n",
    "\n",
    "@interact(hue=[\"spent\",\"impressions\", \"clicks\", \"cost per click\", \"cost per impression\", 'cost per conversion', \"click through rate\", \"conversion rate\"])\n",
    "def plot(hue):\n",
    "    _ = sns.pairplot(kpi_calculation_four,\n",
    "                     x_vars = hue ,\n",
    "                     y_vars = [\"Segment\", \"total_conversion\"],\n",
    "                     hue = hue\n",
    "                    )\n"
   ]
  },
  {
   "cell_type": "markdown",
   "metadata": {
    "scrolled": true
   },
   "source": [
    "# Regression Analysis\n"
   ]
  },
  {
   "cell_type": "code",
   "execution_count": 36,
   "metadata": {
    "scrolled": true
   },
   "outputs": [
    {
     "data": {
      "text/plain": [
       "Intercept           0.994988\n",
       "impressions         0.000031\n",
       "clicks             -0.049620\n",
       "spent              -0.042649\n",
       "gender             -0.495693\n",
       "focused_interest    0.035199\n",
       "age_categorical     0.071790\n",
       "dtype: float64"
      ]
     },
     "execution_count": 36,
     "metadata": {},
     "output_type": "execute_result"
    }
   ],
   "source": [
    "#This cell runs a linear regression for all variables on their effect on total conversion\n",
    "\n",
    "regression = sm.ols(formula = \"total_conversion ~ impressions + clicks + spent + gender + focused_interest + age_categorical\", data = data).fit()\n",
    "\n",
    "regression.params"
   ]
  },
  {
   "cell_type": "code",
   "execution_count": 37,
   "metadata": {
    "scrolled": false
   },
   "outputs": [
    {
     "data": {
      "text/html": [
       "<table class=\"simpletable\">\n",
       "<caption>OLS Regression Results</caption>\n",
       "<tr>\n",
       "  <th>Dep. Variable:</th>    <td>total_conversion</td> <th>  R-squared:         </th> <td>   0.834</td> \n",
       "</tr>\n",
       "<tr>\n",
       "  <th>Model:</th>                   <td>OLS</td>       <th>  Adj. R-squared:    </th> <td>   0.833</td> \n",
       "</tr>\n",
       "<tr>\n",
       "  <th>Method:</th>             <td>Least Squares</td>  <th>  F-statistic:       </th> <td>   632.9</td> \n",
       "</tr>\n",
       "<tr>\n",
       "  <th>Date:</th>             <td>Sun, 07 Jul 2019</td> <th>  Prob (F-statistic):</th> <td>2.28e-290</td>\n",
       "</tr>\n",
       "<tr>\n",
       "  <th>Time:</th>                 <td>19:04:46</td>     <th>  Log-Likelihood:    </th> <td> -1462.0</td> \n",
       "</tr>\n",
       "<tr>\n",
       "  <th>No. Observations:</th>      <td>   761</td>      <th>  AIC:               </th> <td>   2938.</td> \n",
       "</tr>\n",
       "<tr>\n",
       "  <th>Df Residuals:</th>          <td>   754</td>      <th>  BIC:               </th> <td>   2970.</td> \n",
       "</tr>\n",
       "<tr>\n",
       "  <th>Df Model:</th>              <td>     6</td>      <th>                     </th>     <td> </td>    \n",
       "</tr>\n",
       "<tr>\n",
       "  <th>Covariance Type:</th>      <td>nonrobust</td>    <th>                     </th>     <td> </td>    \n",
       "</tr>\n",
       "</table>\n",
       "<table class=\"simpletable\">\n",
       "<tr>\n",
       "          <td></td>            <th>coef</th>     <th>std err</th>      <th>t</th>      <th>P>|t|</th>  <th>[0.025</th>    <th>0.975]</th>  \n",
       "</tr>\n",
       "<tr>\n",
       "  <th>Intercept</th>        <td>    0.9950</td> <td>    0.151</td> <td>    6.574</td> <td> 0.000</td> <td>    0.698</td> <td>    1.292</td>\n",
       "</tr>\n",
       "<tr>\n",
       "  <th>impressions</th>      <td> 3.101e-05</td> <td> 1.44e-06</td> <td>   21.520</td> <td> 0.000</td> <td> 2.82e-05</td> <td> 3.38e-05</td>\n",
       "</tr>\n",
       "<tr>\n",
       "  <th>clicks</th>           <td>   -0.0496</td> <td>    0.029</td> <td>   -1.706</td> <td> 0.088</td> <td>   -0.107</td> <td>    0.007</td>\n",
       "</tr>\n",
       "<tr>\n",
       "  <th>spent</th>            <td>   -0.0426</td> <td>    0.020</td> <td>   -2.144</td> <td> 0.032</td> <td>   -0.082</td> <td>   -0.004</td>\n",
       "</tr>\n",
       "<tr>\n",
       "  <th>gender</th>           <td>   -0.4957</td> <td>    0.131</td> <td>   -3.789</td> <td> 0.000</td> <td>   -0.753</td> <td>   -0.239</td>\n",
       "</tr>\n",
       "<tr>\n",
       "  <th>focused_interest</th> <td>    0.0352</td> <td>    0.169</td> <td>    0.208</td> <td> 0.835</td> <td>   -0.297</td> <td>    0.367</td>\n",
       "</tr>\n",
       "<tr>\n",
       "  <th>age_categorical</th>  <td>    0.0718</td> <td>    0.058</td> <td>    1.236</td> <td> 0.217</td> <td>   -0.042</td> <td>    0.186</td>\n",
       "</tr>\n",
       "</table>\n",
       "<table class=\"simpletable\">\n",
       "<tr>\n",
       "  <th>Omnibus:</th>       <td>452.318</td> <th>  Durbin-Watson:     </th> <td>   1.748</td> \n",
       "</tr>\n",
       "<tr>\n",
       "  <th>Prob(Omnibus):</th> <td> 0.000</td>  <th>  Jarque-Bera (JB):  </th> <td>20141.205</td>\n",
       "</tr>\n",
       "<tr>\n",
       "  <th>Skew:</th>          <td> 1.999</td>  <th>  Prob(JB):          </th> <td>    0.00</td> \n",
       "</tr>\n",
       "<tr>\n",
       "  <th>Kurtosis:</th>      <td>27.884</td>  <th>  Cond. No.          </th> <td>7.85e+05</td> \n",
       "</tr>\n",
       "</table><br/><br/>Warnings:<br/>[1] Standard Errors assume that the covariance matrix of the errors is correctly specified.<br/>[2] The condition number is large, 7.85e+05. This might indicate that there are<br/>strong multicollinearity or other numerical problems."
      ],
      "text/plain": [
       "<class 'statsmodels.iolib.summary.Summary'>\n",
       "\"\"\"\n",
       "                            OLS Regression Results                            \n",
       "==============================================================================\n",
       "Dep. Variable:       total_conversion   R-squared:                       0.834\n",
       "Model:                            OLS   Adj. R-squared:                  0.833\n",
       "Method:                 Least Squares   F-statistic:                     632.9\n",
       "Date:                Sun, 07 Jul 2019   Prob (F-statistic):          2.28e-290\n",
       "Time:                        19:04:46   Log-Likelihood:                -1462.0\n",
       "No. Observations:                 761   AIC:                             2938.\n",
       "Df Residuals:                     754   BIC:                             2970.\n",
       "Df Model:                           6                                         \n",
       "Covariance Type:            nonrobust                                         \n",
       "====================================================================================\n",
       "                       coef    std err          t      P>|t|      [0.025      0.975]\n",
       "------------------------------------------------------------------------------------\n",
       "Intercept            0.9950      0.151      6.574      0.000       0.698       1.292\n",
       "impressions       3.101e-05   1.44e-06     21.520      0.000    2.82e-05    3.38e-05\n",
       "clicks              -0.0496      0.029     -1.706      0.088      -0.107       0.007\n",
       "spent               -0.0426      0.020     -2.144      0.032      -0.082      -0.004\n",
       "gender              -0.4957      0.131     -3.789      0.000      -0.753      -0.239\n",
       "focused_interest     0.0352      0.169      0.208      0.835      -0.297       0.367\n",
       "age_categorical      0.0718      0.058      1.236      0.217      -0.042       0.186\n",
       "==============================================================================\n",
       "Omnibus:                      452.318   Durbin-Watson:                   1.748\n",
       "Prob(Omnibus):                  0.000   Jarque-Bera (JB):            20141.205\n",
       "Skew:                           1.999   Prob(JB):                         0.00\n",
       "Kurtosis:                      27.884   Cond. No.                     7.85e+05\n",
       "==============================================================================\n",
       "\n",
       "Warnings:\n",
       "[1] Standard Errors assume that the covariance matrix of the errors is correctly specified.\n",
       "[2] The condition number is large, 7.85e+05. This might indicate that there are\n",
       "strong multicollinearity or other numerical problems.\n",
       "\"\"\""
      ]
     },
     "execution_count": 37,
     "metadata": {},
     "output_type": "execute_result"
    }
   ],
   "source": [
    "#This cell displays the summary of the regression\n",
    "regression.summary()"
   ]
  },
  {
   "cell_type": "markdown",
   "metadata": {},
   "source": [
    "The Dummy variable created for Focused interest appears to be insignificant. The R squared value is pretty so tis model model works farily well. "
   ]
  },
  {
   "cell_type": "code",
   "execution_count": 38,
   "metadata": {
    "scrolled": true
   },
   "outputs": [],
   "source": [
    "#creates a dataframe that can be used to predict values from the regression model\n",
    "\n",
    "reg_x_test = pd.DataFrame({'impressions': [data.impressions.min(), data.impressions.max()],\n",
    "                           'clicks': [data.clicks.min(), data.clicks.max()], \n",
    "                           'spent' : [data.spent.min(), data.spent.max()],\n",
    "                           'gender' : [data.gender.min(), data.gender.max()] ,\n",
    "                           'focused_interest' : [data.focused_interest.min(), data.focused_interest.max()],\n",
    "                          'age_categorical' : [data.age_categorical.min(), data.focused_interest.max()]})\n",
    "\n",
    "\n"
   ]
  },
  {
   "cell_type": "code",
   "execution_count": 39,
   "metadata": {
    "scrolled": true
   },
   "outputs": [
    {
     "data": {
      "text/html": [
       "<div>\n",
       "<style scoped>\n",
       "    .dataframe tbody tr th:only-of-type {\n",
       "        vertical-align: middle;\n",
       "    }\n",
       "\n",
       "    .dataframe tbody tr th {\n",
       "        vertical-align: top;\n",
       "    }\n",
       "\n",
       "    .dataframe thead th {\n",
       "        text-align: right;\n",
       "    }\n",
       "</style>\n",
       "<table border=\"1\" class=\"dataframe\">\n",
       "  <thead>\n",
       "    <tr style=\"text-align: right;\">\n",
       "      <th></th>\n",
       "      <th>clicks</th>\n",
       "      <th>conversion_prediction</th>\n",
       "      <th>impressions</th>\n",
       "      <th>spent</th>\n",
       "      <th>total_conversion</th>\n",
       "    </tr>\n",
       "  </thead>\n",
       "  <tbody>\n",
       "    <tr>\n",
       "      <th>0</th>\n",
       "      <td>0</td>\n",
       "      <td>0.997686</td>\n",
       "      <td>87.0</td>\n",
       "      <td>0.000000</td>\n",
       "      <td>0.0</td>\n",
       "    </tr>\n",
       "    <tr>\n",
       "      <th>1</th>\n",
       "      <td>340</td>\n",
       "      <td>51.077028</td>\n",
       "      <td>3052003.0</td>\n",
       "      <td>639.949998</td>\n",
       "      <td>60.0</td>\n",
       "    </tr>\n",
       "  </tbody>\n",
       "</table>\n",
       "</div>"
      ],
      "text/plain": [
       "   clicks  conversion_prediction  impressions       spent  total_conversion\n",
       "0       0               0.997686         87.0    0.000000               0.0\n",
       "1     340              51.077028    3052003.0  639.949998              60.0"
      ]
     },
     "execution_count": 39,
     "metadata": {},
     "output_type": "execute_result"
    }
   ],
   "source": [
    "#This cell creates a dataframe that can be used to plot the trendline for the regression\n",
    "#Impressions is used as the X-value as it appears to have te bioggest impact on total conversions\n",
    "\n",
    "#predicts the values\n",
    "preds = regression.predict(reg_x_test)\n",
    "\n",
    "\n",
    "#assigns te values from the prediction and the other variables for graphing purposes\n",
    "y_value = pd.DataFrame({'conversion_prediction':[preds.min(), preds.max()],\n",
    "                        'total_conversion':[data.total_conversion.min(), data.total_conversion.max()],\n",
    "                       'impressions': [data.impressions.min(), data.impressions.max()],\n",
    "                       'clicks': [data.clicks.min(), data.clicks.max()], \n",
    "                       'spent':[data.spent.min(), data.spent.max()]})\n",
    "\n",
    "\n",
    "y_value"
   ]
  },
  {
   "cell_type": "code",
   "execution_count": 40,
   "metadata": {
    "scrolled": false
   },
   "outputs": [
    {
     "data": {
      "text/plain": [
       "[<matplotlib.lines.Line2D at 0x1a1702c6d8>]"
      ]
     },
     "execution_count": 40,
     "metadata": {},
     "output_type": "execute_result"
    },
    {
     "data": {
      "image/png": "[encoded data removed]",
      "text/plain": [
       "<Figure size 432x288 with 1 Axes>"
      ]
     },
     "metadata": {
      "needs_background": "light"
     },
     "output_type": "display_data"
    },
    {
     "data": {
      "image/png": "[encoded data removed]",
      "text/plain": [
       "<Figure size 432x288 with 1 Axes>"
      ]
     },
     "metadata": {
      "needs_background": "light"
     },
     "output_type": "display_data"
    },
    {
     "data": {
      "image/png": "[encoded data removed]",
      "text/plain": [
       "<Figure size 432x288 with 1 Axes>"
      ]
     },
     "metadata": {
      "needs_background": "light"
     },
     "output_type": "display_data"
    }
   ],
   "source": [
    "#This cell plots a trend line to three different variables\n",
    "\n",
    "data.plot(kind='scatter', x='impressions', y='total_conversion')\n",
    "plt.plot( y_value.impressions,y_value.conversion_prediction, c='red')\n",
    "\n",
    "\n",
    "data.plot(kind='scatter', x='clicks', y='total_conversion')\n",
    "plt.plot(y_value.clicks, y_value.conversion_prediction, c='red')\n",
    "\n",
    "\n",
    "spent = data.plot(kind='scatter', x='spent', y='total_conversion')\n",
    "plt.plot(y_value.spent, y_value.conversion_prediction, c='red')"
   ]
  },
  {
   "cell_type": "markdown",
   "metadata": {},
   "source": [
    "# End Notes\n"
   ]
  },
  {
   "cell_type": "markdown",
   "metadata": {},
   "source": [
    "The graphs in the Tl:dr conclusion were added via html after they had been calculated in the notebook below those cells. \n",
    "\n",
    "\n",
    "Data pulled from this source\n",
    "https://www.kaggle.com/madislemsalu/facebook-ad-campaign"
   ]
  }
 ],
 "metadata": {
  "kernelspec": {
   "display_name": "Python 3",
   "language": "python",
   "name": "python3"
  },
  "language_info": {
   "codemirror_mode": {
    "name": "ipython",
    "version": 3
   },
   "file_extension": ".py",
   "mimetype": "text/x-python",
   "name": "python",
   "nbconvert_exporter": "python",
   "pygments_lexer": "ipython3",
   "version": "3.5.5"
  }
 },
 "nbformat": 4,
 "nbformat_minor": 2
}
